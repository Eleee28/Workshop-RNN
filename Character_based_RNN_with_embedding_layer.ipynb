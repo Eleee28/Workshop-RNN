{
  "cells": [
    {
      "cell_type": "markdown",
      "metadata": {
        "id": "M2TRva8BHbfO"
      },
      "source": [
        "# Text generation with character based RNNs\n",
        "\n",
        "Create and train LSTM neural network that generates new text based on the short input text. Network shoudl generate the text in the same style as training text\n"
      ]
    },
    {
      "cell_type": "markdown",
      "metadata": {
        "id": "1m4-g5LGov-z"
      },
      "source": [
        "# 1. Download, read and prepare text data"
      ]
    },
    {
      "cell_type": "code",
      "execution_count": 5,
      "metadata": {
        "id": "xpLSVxJvOGS5",
        "outputId": "fb1d6e4e-8e85-459e-e2a0-5ec1db609f74",
        "colab": {
          "base_uri": "https://localhost:8080/"
        }
      },
      "outputs": [
        {
          "output_type": "stream",
          "name": "stdout",
          "text": [
            "--2024-02-13 06:56:49--  https://pgentil.github.io/pages/asv.txt\n",
            "Resolving pgentil.github.io (pgentil.github.io)... 185.199.108.153, 185.199.109.153, 185.199.110.153, ...\n",
            "Connecting to pgentil.github.io (pgentil.github.io)|185.199.108.153|:443... connected.\n",
            "HTTP request sent, awaiting response... 200 OK\n",
            "Length: 4576325 (4.4M) [text/plain]\n",
            "Saving to: ‘asv.txt’\n",
            "\n",
            "asv.txt             100%[===================>]   4.36M  --.-KB/s    in 0.09s   \n",
            "\n",
            "2024-02-13 06:56:49 (47.7 MB/s) - ‘asv.txt’ saved [4576325/4576325]\n",
            "\n"
          ]
        }
      ],
      "source": [
        "# !wget https://wolnelektury.pl/media/book/txt/pan-tadeusz.txt\n",
        "!wget https://pgentil.github.io/pages/asv.txt"
      ]
    },
    {
      "cell_type": "code",
      "execution_count": 6,
      "metadata": {
        "colab": {
          "base_uri": "https://localhost:8080/"
        },
        "id": "bBwK6EogHbfP",
        "outputId": "b6e93423-bcc0-4ef8-ffb7-997e037b57d4"
      },
      "outputs": [
        {
          "output_type": "stream",
          "name": "stdout",
          "text": [
            "Text length:  4576325\n"
          ]
        }
      ],
      "source": [
        "\n",
        "import random\n",
        "import re\n",
        "import torch\n",
        "import torch.nn as nn\n",
        "\n",
        "\n",
        "#reading\n",
        "# with open('pan-tadeusz.txt', 'r') as f:\n",
        "with open('asv.txt', 'r') as f:\n",
        "    file=f.read()\n",
        "file_len = len(file)\n",
        "\n",
        "print('Text length: ', file_len)\n",
        "\n"
      ]
    },
    {
      "cell_type": "markdown",
      "metadata": {
        "id": "sw3I6sYLOGS6"
      },
      "source": [
        "## Create a set of all charaters  and save number of charaters for later use"
      ]
    },
    {
      "cell_type": "code",
      "execution_count": 13,
      "metadata": {
        "id": "eYtYQEVWOGS6",
        "outputId": "ec712deb-927a-4038-b3b6-3330025cc8a0",
        "colab": {
          "base_uri": "https://localhost:8080/"
        }
      },
      "outputs": [
        {
          "output_type": "stream",
          "name": "stdout",
          "text": [
            "h;oWly8!pB1P\n",
            "6x7YqHA:0.[9MJnuz<j)USdEewIG(N35RsvVZtaifm}b'KT{=]rCk2DOcF/ Qg,?4L->\"\n",
            "82\n"
          ]
        }
      ],
      "source": [
        "all_characters =''.join(set(file))\n",
        "n_characters = len(all_characters)\n",
        "print(all_characters)\n",
        "print(n_characters)"
      ]
    },
    {
      "cell_type": "markdown",
      "metadata": {
        "id": "0L8KBRWyHbfU"
      },
      "source": [
        "## Write function that returns the random text chunk of a given length \"chunk_len\""
      ]
    },
    {
      "cell_type": "code",
      "execution_count": 11,
      "metadata": {
        "colab": {
          "base_uri": "https://localhost:8080/"
        },
        "id": "FUwtlAsAHbfU",
        "outputId": "c402a0eb-c8f4-40c6-edec-485105307869"
      },
      "outputs": [
        {
          "output_type": "stream",
          "name": "stdout",
          "text": [
            "city of David, at the ascent of the wall, above the house of David, even unto the water gate eastward.\n",
            "Nehemiah 12:38 And the other company of them that gave thanks went to meet them, and I after them,\n"
          ]
        }
      ],
      "source": [
        "chunk_len = 200\n",
        "\n",
        "def random_chunk():\n",
        "\n",
        "    start_index = random.randint(0, file_len - chunk_len)\n",
        "    end_index = start_index + chunk_len + 1\n",
        "    return file[start_index:end_index]\n",
        "\n",
        "rand=random_chunk()\n",
        "\n",
        "print(rand)\n"
      ]
    },
    {
      "cell_type": "markdown",
      "metadata": {
        "id": "juGZk6dxHbfX"
      },
      "source": [
        "## Write function that returns the indices of characters from a given string in \"all_characters\""
      ]
    },
    {
      "cell_type": "code",
      "execution_count": 14,
      "metadata": {
        "colab": {
          "base_uri": "https://localhost:8080/"
        },
        "id": "STesZpdhHbfY",
        "outputId": "94cf4cae-ac86-4e89-f5ff-510eb6c3304a"
      },
      "outputs": [
        {
          "output_type": "stream",
          "name": "stdout",
          "text": [
            "tensor([51, 56, 69])\n"
          ]
        }
      ],
      "source": [
        "\n",
        "def char_to_idx(string):\n",
        "    tensor = torch.zeros(len(string)).long()#type long, we don't want float\n",
        "    for c in range(len(string)): #c is index of current character in string\n",
        "          tensor[c] = all_characters.index(string[c]) # find index of current character in all_characters\n",
        "    return tensor\n",
        "\n",
        "print(char_to_idx('abc'))\n",
        "\n",
        "\n"
      ]
    },
    {
      "cell_type": "code",
      "execution_count": 15,
      "metadata": {
        "id": "AXthr5s0OGS7",
        "outputId": "8b86740b-0469-4e79-df5f-a46b18e25fd6",
        "colab": {
          "base_uri": "https://localhost:8080/"
        }
      },
      "outputs": [
        {
          "output_type": "execute_result",
          "data": {
            "text/plain": [
              "tensor([69, 52, 50,  5, 72,  2, 53, 72, 67, 51, 47, 52, 35, 75, 72, 51, 50, 72,\n",
              "        50,  0, 37, 72, 51, 46, 69, 37, 27, 50, 72,  2, 53, 72, 50,  0, 37, 72,\n",
              "        38, 51,  4,  4, 75, 72, 51, 56,  2, 47, 37, 72, 50,  0, 37, 72,  0,  2,\n",
              "        28, 46, 37, 72,  2, 53, 72, 67, 51, 47, 52, 35, 75, 72, 37, 47, 37, 27,\n",
              "        72, 28, 27, 50,  2, 72, 50,  0, 37, 72, 38, 51, 50, 37, 63, 72, 74, 51,\n",
              "        50, 37, 72, 37, 51, 46, 50, 38, 51, 63, 35, 22, 12, 42, 37,  0, 37, 54,\n",
              "        52, 51,  0, 72, 10, 66, 20, 43,  6, 72, 19, 27, 35, 72, 50,  0, 37, 72,\n",
              "         2, 50,  0, 37, 63, 72, 69,  2, 54,  8, 51, 27,  5, 72,  2, 53, 72, 50,\n",
              "         0, 37, 54, 72, 50,  0, 51, 50, 72, 74, 51, 47, 37, 72, 50,  0, 51, 27,\n",
              "        65, 46, 72, 38, 37, 27, 50, 72, 50,  2, 72, 54, 37, 37, 50, 72, 50,  0,\n",
              "        37, 54, 75, 72, 51, 27, 35, 72, 39, 72, 51, 53, 50, 37, 63, 72, 50,  0,\n",
              "        37, 54, 75])"
            ]
          },
          "metadata": {},
          "execution_count": 15
        }
      ],
      "source": [
        "char_to_idx(rand)"
      ]
    },
    {
      "cell_type": "markdown",
      "metadata": {
        "id": "lambMdPZHbfe"
      },
      "source": [
        "## Create function that returns training sample using a random chuck of text. The input is all characters of chunk without the last one, the target is all characters without the first one"
      ]
    },
    {
      "cell_type": "code",
      "execution_count": 16,
      "metadata": {
        "id": "vZttCgX8Hbfe"
      },
      "outputs": [],
      "source": [
        "def random_training_set():\n",
        "    chunk = random_chunk()\n",
        "    inp = char_to_idx(chunk[:-1])\n",
        "    target = char_to_idx(chunk[1:])\n",
        "    return inp, target"
      ]
    },
    {
      "cell_type": "markdown",
      "metadata": {
        "id": "ukX_U6N7OGS8"
      },
      "source": [
        "# 2. Create class for  model of neural network\n",
        " Every model class in pyTorch inherits from nn.Module.\n",
        "\n",
        " The model usually consist of two methods: __init__ and __forward__. In our model we need also __init_hidden__\n",
        "\n",
        " - __init__ - declared within a class, is used to initialize the attributes of an object as soon as the object is formed. In our case we initialize\n",
        "     - attributes :  input_size, embed_size, hidden_size, output_size, n_layers\n",
        "     - layers/modules:\n",
        "         - nn.Embedding - A simple lookup table that stores embeddings. Embeddings are retrieved using indices. The input to the module is a list of indices, and the output is the corresponding word embeddings. Parameters: input size, embed_size https://pytorch.org/docs/stable/generated/torch.nn.Embedding.html#torch.nn.Embedding\n",
        "         - nn.LSTM - Apply a multi-layer long short-term memory (LSTM) RNN to an input sequence. Parameters: embed_size, hidden_size, n_layers https://pytorch.org/docs/stable/generated/torch.nn.LSTM.html#lstm\n",
        "         - nn.Linear - Dense Layer. Parameters hidden_size, output_size https://pytorch.org/docs/stable/generated/torch.nn.Linear.html#linear\n",
        "      \n",
        "- __forward__ - calculates all the operations inside neural net. Arguments for RNN input, hidden state from previous step.\n",
        "    - first convert input indices to embeddings\n",
        "    - pass embedding and hidden state(together with cell state (h_t-1, c_t-1)) to LSTM that returns the output and hidden state together with cell state (h_t, c_t)\n",
        "    - -pass the output throu linear layer\n",
        "    - return output of linear layer and hidden state ((h_t, c_t))\n",
        "\n",
        "- __init_hidden__ - return the initial value of hidden and cell state h_0, c_0 - in our case zero vectors\n"
      ]
    },
    {
      "cell_type": "code",
      "execution_count": 17,
      "metadata": {
        "id": "IdNxnh-kHbfc"
      },
      "outputs": [],
      "source": [
        "\n",
        "\n",
        "class RNN(nn.Module):\n",
        "    def __init__(self, input_size, embed_size, hidden_size, output_size, n_layers=1):\n",
        "        super(RNN, self).__init__()\n",
        "        #Your code\n",
        "        self.input_size = input_size\n",
        "        self.embed_size = embed_size\n",
        "        self.hidden_size = hidden_size\n",
        "        self.output_size = output_size\n",
        "        self.n_layers = n_layers\n",
        "\n",
        "        #######YOUR CODE########\n",
        "        self.embed = nn.Embedding(input_size, embed_size)\n",
        "        self.lstm = nn.LSTM(embed_size, hidden_size, n_layers)\n",
        "        self.linear = nn.Linear(hidden_size, output_size)\n",
        "        #########################\n",
        "\n",
        "    def forward(self, inp, hidden):\n",
        "\n",
        "        inp=inp.view(1, -1) #as our input is a single index we have to convert it to tensor with proper shape\n",
        "\n",
        "        #######YOUR CODE########\n",
        "        e = self.embed(inp) # <-get EMBEDDING for input\n",
        "\n",
        "        output, hidden =  self.lstm(e, hidden)  # <-get LSTM outputs\n",
        "        #############################\n",
        "\n",
        "        output = self.linear(output.squeeze(0))# reduce the dimension of the lstm output and pass through linear layer\n",
        "        return output, hidden\n",
        "\n",
        "    def init_hidden(self):\n",
        "        return (torch.zeros(self.n_layers, 1, self.hidden_size),\n",
        "                torch.zeros(self.n_layers, 1, self.hidden_size))"
      ]
    },
    {
      "cell_type": "markdown",
      "metadata": {
        "id": "HTd2-_JVOGS8"
      },
      "source": [
        "## Create model instance, optimizer and loss function"
      ]
    },
    {
      "cell_type": "code",
      "execution_count": 18,
      "metadata": {
        "id": "C-H4pyg0OGS8"
      },
      "outputs": [],
      "source": [
        "embed_size=100\n",
        "hidden_size = 100\n",
        "n_layers = 1\n",
        "lr = 0.005\n",
        "##\n",
        "\n",
        "\n",
        "########### YOUR CODE#######\n",
        "rnn = RNN(n_characters, embed_size, hidden_size, n_characters, n_layers) #your code - input_size and  output_size is the same -number of characters\n",
        "############################\n",
        "rnn_optimizer = torch.optim.SGD(rnn.parameters(), lr=lr, momentum=0.6)\n",
        "criterion = nn.CrossEntropyLoss()"
      ]
    },
    {
      "cell_type": "markdown",
      "metadata": {
        "id": "wvROs5Y6Hbfg"
      },
      "source": [
        "## Write function that return a sample of generated texts. This function is used during training to control the generated output"
      ]
    },
    {
      "cell_type": "code",
      "execution_count": 19,
      "metadata": {
        "id": "AIgyaifyHbfh"
      },
      "outputs": [],
      "source": [
        "import random\n",
        "\n",
        "\n",
        "def sample(start_str='A', predict_len=100):\n",
        "    #initialize the hidden state of network\n",
        "    hidden = rnn.init_hidden()\n",
        "    start_input = char_to_idx(start_str) #change input to indices\n",
        "    predicted = start_str# set beggining of predicted sequence\n",
        "\n",
        "    #run network on every character from start_str to learn the input sequence\n",
        "    for p in range(len(start_str) - 1):\n",
        "        _, hidden = rnn(start_input[p], hidden) #your code\n",
        "\n",
        "    #last character is now the input\n",
        "    inp = start_input[-1]\n",
        "\n",
        "    #generate new characters\n",
        "    for p in range(predict_len):\n",
        "\n",
        "        ########## YOUR CODE ############\n",
        "        output, hidden = rnn(inp, hidden) #your code - run network with the current input and\n",
        "        #################################\n",
        "\n",
        "        top_v, top_i = output.data.view(-1).topk(3)# choose top k characters with best score\n",
        "        top_i = random.choice(top_i)#top_i[0]\n",
        "\n",
        "\n",
        "\n",
        "        predicted_char = all_characters[top_i]\n",
        "        predicted += predicted_char\n",
        "        inp = char_to_idx(predicted_char) #set inp as new predicted char (you could just do inp = top_i)\n",
        "\n",
        "\n",
        "\n",
        "    return predicted"
      ]
    },
    {
      "cell_type": "code",
      "execution_count": 20,
      "metadata": {
        "id": "VKB4sANgHbfj"
      },
      "outputs": [],
      "source": [
        "import time, math\n",
        "\n",
        "def time_since(since):\n",
        "    s = time.time() - since\n",
        "    m = math.floor(s / 60)\n",
        "    s -= m * 60\n",
        "    return '%dm %ds' % (m, s)"
      ]
    },
    {
      "cell_type": "markdown",
      "metadata": {
        "id": "52_gHIhoHbfl"
      },
      "source": [
        "# 3. Train the network"
      ]
    },
    {
      "cell_type": "code",
      "execution_count": 21,
      "metadata": {
        "id": "BiJkevjwHbfm"
      },
      "outputs": [],
      "source": [
        "def train(inp, target):\n",
        "    hidden = rnn.init_hidden() #initialize the hidden state of network before every training sample\n",
        "    rnn_optimizer.zero_grad() # set gradient network as zero to not cumulate gradients from previous steps\n",
        "    loss = 0\n",
        "    for c in range(0,chunk_len-1):\n",
        "\n",
        "        output, hidden = rnn(inp[c], hidden) #make prediction\n",
        "        loss += criterion(output, target[c].view(1)) # calculate loss\n",
        "\n",
        "    loss.backward() # calculate gradient\n",
        "    rnn_optimizer.step()# update parameters of network\n",
        "\n",
        "    return loss.data/ chunk_len"
      ]
    },
    {
      "cell_type": "code",
      "execution_count": null,
      "metadata": {
        "id": "2Ta1XJOlHbfn",
        "scrolled": true
      },
      "outputs": [],
      "source": [
        "#paramters\n",
        "n_epochs = 6000\n",
        "print_every = 100\n",
        "plot_every = 10\n",
        "\n",
        "\n",
        "start = time.time()\n",
        "all_losses = []\n",
        "loss_avg = 0\n",
        "\n",
        "#train and check result every \"print_every\" step and save loss every \"plot_every\" step\n",
        "for epoch in range(1, n_epochs + 1):\n",
        "    x,target = random_training_set()\n",
        "    loss = train(x, target)\n",
        "    loss_avg += loss\n",
        "\n",
        "    if epoch % print_every == 0:\n",
        "        print('%s (%d %d%%) %.4f' % (time_since(start), epoch, epoch / n_epochs * 100, loss))\n",
        "        print(sample('Gdy', 200), '\\n')\n",
        "\n",
        "    if epoch % plot_every == 0:\n",
        "        all_losses.append(loss_avg / plot_every)\n",
        "        loss_avg = 0"
      ]
    },
    {
      "cell_type": "markdown",
      "metadata": {
        "id": "vqPlwvLLOGS9"
      },
      "source": [
        "## plot the resulting loss"
      ]
    },
    {
      "cell_type": "code",
      "execution_count": 23,
      "metadata": {
        "colab": {
          "base_uri": "https://localhost:8080/",
          "height": 448
        },
        "id": "qpJYq040Hbfr",
        "outputId": "33d141a2-3dd9-4f3b-998a-c83a2d656623"
      },
      "outputs": [
        {
          "output_type": "execute_result",
          "data": {
            "text/plain": [
              "[<matplotlib.lines.Line2D at 0x7da845e821a0>]"
            ]
          },
          "metadata": {},
          "execution_count": 23
        },
        {
          "output_type": "display_data",
          "data": {
            "text/plain": [
              "<Figure size 640x480 with 1 Axes>"
            ],
            "image/png": "[encoded data removed]"
          },
          "metadata": {}
        }
      ],
      "source": [
        "%matplotlib inline\n",
        "import matplotlib.pyplot as plt\n",
        "import matplotlib.ticker as ticker\n",
        "\n",
        "plt.figure()\n",
        "plt.plot(all_losses)"
      ]
    },
    {
      "cell_type": "markdown",
      "metadata": {
        "id": "lUM9_zt3Hbfu"
      },
      "source": [
        "helpful tutorials for rnns in pyTorch:\n",
        "\n",
        "https://pytorch.org/tutorials/beginner/nlp/sequence_models_tutorial.html\n",
        "https://pytorch.org/tutorials/intermediate/char_rnn_generation_tutorial.html\n",
        "\n",
        "tutorials code inspired by https://github.com/rasbt/stat453-deep-learning-ss21/blob/main/L19/character-rnn/01_char-rnn_lstm-ver.ipynb.ipynb"
      ]
    }
  ],
  "metadata": {
    "colab": {
      "provenance": []
    },
    "kernelspec": {
      "display_name": "Python 3 (ipykernel)",
      "language": "python",
      "name": "python3"
    },
    "language_info": {
      "codemirror_mode": {
        "name": "ipython",
        "version": 3
      },
      "file_extension": ".py",
      "mimetype": "text/x-python",
      "name": "python",
      "nbconvert_exporter": "python",
      "pygments_lexer": "ipython3",
      "version": "3.8.10"
    }
  },
  "nbformat": 4,
  "nbformat_minor": 0
}